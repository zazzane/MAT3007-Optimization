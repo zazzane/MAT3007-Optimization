{
 "cells": [
  {
   "cell_type": "markdown",
   "metadata": {},
   "source": [
    "# Q4\n",
    "## Coding workspace for LP solving in question 4 of homework 9"
   ]
  },
  {
   "cell_type": "markdown",
   "metadata": {},
   "source": [
    "#### S - Original"
   ]
  },
  {
   "cell_type": "code",
   "execution_count": null,
   "metadata": {},
   "outputs": [
    {
     "name": "stdout",
     "output_type": "stream",
     "text": [
      "**** S - Original Problem ****\n",
      "Status: Optimal\n",
      "x1 = 0.83333333\n",
      "x2 = 1.0\n",
      "x3 = 0.0\n",
      "x4 = 1.0\n",
      "Objective value: 16.49999997\n"
     ]
    }
   ],
   "source": [
    "# Code for Solving the Original Problem\n",
    "import pulp\n",
    "\n",
    "# Create a LP maximization problem\n",
    "prob = pulp.LpProblem(\"Maximization_Problem\", pulp.LpMaximize)\n",
    "\n",
    "# Define decision variables\n",
    "x1 = pulp.LpVariable('x1', lowBound=0, upBound=1, cat='Continuous')\n",
    "x2 = pulp.LpVariable('x2', lowBound=0, upBound=1, cat='Continuous')\n",
    "x3 = pulp.LpVariable('x3', lowBound=0, upBound=1, cat='Continuous')\n",
    "x4 = pulp.LpVariable('x4', lowBound=0, upBound=1, cat='Continuous')\n",
    "\n",
    "# Objective function\n",
    "prob += 9*x1 + 5*x2 + 6*x3 + 4*x4, \"Objective\"\n",
    "\n",
    "# Constraints\n",
    "prob += 6*x1 + 3*x2 + 5*x3 + 2*x4 <= 10, \"Constraint 1\"\n",
    "prob += x3 + x4 <= 1, \"Constraint 2\"\n",
    "prob += x3 - x1 <= 0, \"Constraint 3\"\n",
    "prob += x4 - x2 <= 0, \"Constraint 4\"\n",
    "\n",
    "# Solve the problem\n",
    "prob.solve()\n",
    "\n",
    "# Print the results\n",
    "print(\"**** S - Original Problem ****\")\n",
    "print(\"Status:\", pulp.LpStatus[prob.status])\n",
    "for variable in prob.variables():\n",
    "    print(f\"{variable.name} = {variable.varValue}\")\n",
    "print(\"Objective value:\", pulp.value(prob.objective))"
   ]
  },
  {
   "cell_type": "markdown",
   "metadata": {},
   "source": [
    "S - Original:\n",
    "- Fractional\n",
    "- proceed to branch on x1\n",
    "- add `x1 = 0` (S1)\n",
    "- add `x1 = 1` (S2)"
   ]
  },
  {
   "cell_type": "markdown",
   "metadata": {},
   "source": [
    "#### S - 1 : Add `x1 = 0`"
   ]
  },
  {
   "cell_type": "code",
   "execution_count": null,
   "metadata": {},
   "outputs": [
    {
     "name": "stdout",
     "output_type": "stream",
     "text": [
      "**** S - 1 : x1 == 0 ****\n",
      "Status: Optimal\n",
      "x1 = 0.0\n",
      "x2 = 1.0\n",
      "x3 = 0.0\n",
      "x4 = 1.0\n",
      "Objective value: 9.0\n"
     ]
    }
   ],
   "source": [
    "# Code for Solving the Problem with Constraint S1\n",
    "import pulp\n",
    "\n",
    "# Create a LP maximization problem\n",
    "prob = pulp.LpProblem(\"Maximization_Problem\", pulp.LpMaximize)\n",
    "\n",
    "# Define decision variables\n",
    "x1 = pulp.LpVariable('x1', lowBound=0, upBound=1, cat='Continuous')\n",
    "x2 = pulp.LpVariable('x2', lowBound=0, upBound=1, cat='Continuous')\n",
    "x3 = pulp.LpVariable('x3', lowBound=0, upBound=1, cat='Continuous')\n",
    "x4 = pulp.LpVariable('x4', lowBound=0, upBound=1, cat='Continuous')\n",
    "\n",
    "# Objective function\n",
    "prob += 9*x1 + 5*x2 + 6*x3 + 4*x4, \"Objective\"\n",
    "\n",
    "# Constraints\n",
    "prob += 6*x1 + 3*x2 + 5*x3 + 2*x4 <= 10, \"Constraint 1\"\n",
    "prob += x3 + x4 <= 1, \"Constraint 2\"\n",
    "prob += x3 - x1 <= 0, \"Constraint 3\"\n",
    "prob += x4 - x2 <= 0, \"Constraint 4\"\n",
    "prob += x1 == 0, \"Constraint S1\"\n",
    "\n",
    "# Solve the problem\n",
    "prob.solve()\n",
    "\n",
    "# Print the results\n",
    "print(\"**** S - 1 : x1 == 0 ****\")\n",
    "print(\"Status:\", pulp.LpStatus[prob.status])\n",
    "for variable in prob.variables():\n",
    "    print(f\"{variable.name} = {variable.varValue}\")\n",
    "print(\"Objective value:\", pulp.value(prob.objective))"
   ]
  },
  {
   "cell_type": "markdown",
   "metadata": {},
   "source": [
    "S - 1 `x1 = 0`:\n",
    "- Integer\n",
    "- Current Lbound: `9`\n",
    "- no need for further branching"
   ]
  },
  {
   "cell_type": "markdown",
   "metadata": {},
   "source": [
    "#### S2 - Add `x1 = 1`"
   ]
  },
  {
   "cell_type": "code",
   "execution_count": null,
   "metadata": {},
   "outputs": [
    {
     "name": "stdout",
     "output_type": "stream",
     "text": [
      "**** S - 2 : x1 == 1 ****\n",
      "Status: Optimal\n",
      "x1 = 1.0\n",
      "x2 = 0.8\n",
      "x3 = 0.0\n",
      "x4 = 0.8\n",
      "Objective value: 16.2\n"
     ]
    }
   ],
   "source": [
    "# Code for Solving the Problem with Constraint S2\n",
    "import pulp\n",
    "\n",
    "# Create a LP maximization problem\n",
    "prob = pulp.LpProblem(\"Maximization_Problem\", pulp.LpMaximize)\n",
    "\n",
    "# Define decision variables\n",
    "x1 = pulp.LpVariable('x1', lowBound=0, upBound=1, cat='Continuous')\n",
    "x2 = pulp.LpVariable('x2', lowBound=0, upBound=1, cat='Continuous')\n",
    "x3 = pulp.LpVariable('x3', lowBound=0, upBound=1, cat='Continuous')\n",
    "x4 = pulp.LpVariable('x4', lowBound=0, upBound=1, cat='Continuous')\n",
    "\n",
    "# Objective function\n",
    "prob += 9*x1 + 5*x2 + 6*x3 + 4*x4, \"Objective\"\n",
    "\n",
    "# Constraints\n",
    "prob += 6*x1 + 3*x2 + 5*x3 + 2*x4 <= 10, \"Constraint 1\"\n",
    "prob += x3 + x4 <= 1, \"Constraint 2\"\n",
    "prob += x3 - x1 <= 0, \"Constraint 3\"\n",
    "prob += x4 - x2 <= 0, \"Constraint 4\"\n",
    "prob += x1 == 1, \"Constraint S2\"\n",
    "\n",
    "# Solve the problem\n",
    "prob.solve()\n",
    "\n",
    "# Print the results\n",
    "print(\"**** S - 2 : x1 == 1 ****\")\n",
    "print(\"Status:\", pulp.LpStatus[prob.status])\n",
    "for variable in prob.variables():\n",
    "    print(f\"{variable.name} = {variable.varValue}\")\n",
    "print(\"Objective value:\", pulp.value(prob.objective))"
   ]
  },
  {
   "cell_type": "markdown",
   "metadata": {},
   "source": [
    "S - 2 `x1 = 1`:\n",
    "- Fractional\n",
    "- Current Ubound (LP - relaxed): `16.2`\n",
    "- Branch on x2\n",
    "- Add `x2 = 0` (S3)\n",
    "- Add `x2 = 1` (S4)"
   ]
  },
  {
   "cell_type": "markdown",
   "metadata": {},
   "source": [
    "#### S3 - Add `x2 = 0`"
   ]
  },
  {
   "cell_type": "code",
   "execution_count": null,
   "metadata": {},
   "outputs": [
    {
     "name": "stdout",
     "output_type": "stream",
     "text": [
      "**** S - 3 : x2 == 0 ****\n",
      "Status: Optimal\n",
      "x1 = 1.0\n",
      "x2 = 0.0\n",
      "x3 = 0.8\n",
      "x4 = 0.0\n",
      "Objective value: 13.8\n"
     ]
    }
   ],
   "source": [
    "# Code for Solving the Problem with Constraint S3\n",
    "import pulp\n",
    "\n",
    "# Create a LP maximization problem\n",
    "prob = pulp.LpProblem(\"Maximization_Problem\", pulp.LpMaximize)\n",
    "\n",
    "# Define decision variables\n",
    "x1 = pulp.LpVariable('x1', lowBound=0, upBound=1, cat='Continuous')\n",
    "x2 = pulp.LpVariable('x2', lowBound=0, upBound=1, cat='Continuous')\n",
    "x3 = pulp.LpVariable('x3', lowBound=0, upBound=1, cat='Continuous')\n",
    "x4 = pulp.LpVariable('x4', lowBound=0, upBound=1, cat='Continuous')\n",
    "\n",
    "# Objective function\n",
    "prob += 9*x1 + 5*x2 + 6*x3 + 4*x4, \"Objective\"\n",
    "\n",
    "# Constraints\n",
    "prob += 6*x1 + 3*x2 + 5*x3 + 2*x4 <= 10, \"Constraint 1\"\n",
    "prob += x3 + x4 <= 1, \"Constraint 2\"\n",
    "prob += x3 - x1 <= 0, \"Constraint 3\"\n",
    "prob += x4 - x2 <= 0, \"Constraint 4\"\n",
    "prob += x1 == 1, \"Constraint S2\" # branch from S2\n",
    "prob += x2 == 0, \"Constraint S3\"\n",
    "\n",
    "# Solve the problem\n",
    "prob.solve()\n",
    "\n",
    "# Print the results\n",
    "print(\"**** S - 3 : x2 == 0 ****\")\n",
    "print(\"Status:\", pulp.LpStatus[prob.status])\n",
    "for variable in prob.variables():\n",
    "    print(f\"{variable.name} = {variable.varValue}\")\n",
    "print(\"Objective value:\", pulp.value(prob.objective))"
   ]
  },
  {
   "cell_type": "markdown",
   "metadata": {},
   "source": [
    "S - 3 `x2 = 0`:\n",
    "- Fractional\n",
    "- Branch on x3\n",
    "- Add `x3 = 0` (S5)\n",
    "- Add `x3 = 1` (S6)"
   ]
  },
  {
   "cell_type": "markdown",
   "metadata": {},
   "source": [
    "#### S4 - Add `x2 = 1`"
   ]
  },
  {
   "cell_type": "code",
   "execution_count": null,
   "metadata": {},
   "outputs": [
    {
     "name": "stdout",
     "output_type": "stream",
     "text": [
      "**** S - 4 : x2 == 1 ****\n",
      "Status: Optimal\n",
      "x1 = 1.0\n",
      "x2 = 1.0\n",
      "x3 = 0.0\n",
      "x4 = 0.5\n",
      "Objective value: 16.0\n"
     ]
    }
   ],
   "source": [
    "# Code for Solving the Problem with Constraint S4\n",
    "import pulp\n",
    "\n",
    "# Create a LP maximization problem\n",
    "prob = pulp.LpProblem(\"Maximization_Problem\", pulp.LpMaximize)\n",
    "\n",
    "# Define decision variables\n",
    "x1 = pulp.LpVariable('x1', lowBound=0, upBound=1, cat='Continuous')\n",
    "x2 = pulp.LpVariable('x2', lowBound=0, upBound=1, cat='Continuous')\n",
    "x3 = pulp.LpVariable('x3', lowBound=0, upBound=1, cat='Continuous')\n",
    "x4 = pulp.LpVariable('x4', lowBound=0, upBound=1, cat='Continuous')\n",
    "\n",
    "# Objective function\n",
    "prob += 9*x1 + 5*x2 + 6*x3 + 4*x4, \"Objective\"\n",
    "\n",
    "# Constraints\n",
    "prob += 6*x1 + 3*x2 + 5*x3 + 2*x4 <= 10, \"Constraint 1\"\n",
    "prob += x3 + x4 <= 1, \"Constraint 2\"\n",
    "prob += x3 - x1 <= 0, \"Constraint 3\"\n",
    "prob += x4 - x2 <= 0, \"Constraint 4\"\n",
    "prob += x1 == 1, \"Constraint S2\" # branch from S2\n",
    "prob += x2 == 1, \"Constraint S4\"\n",
    "\n",
    "# Solve the problem\n",
    "prob.solve()\n",
    "\n",
    "# Print the results\n",
    "print(\"**** S - 4 : x2 == 1 ****\")\n",
    "print(\"Status:\", pulp.LpStatus[prob.status])\n",
    "for variable in prob.variables():\n",
    "    print(f\"{variable.name} = {variable.varValue}\")\n",
    "print(\"Objective value:\", pulp.value(prob.objective))"
   ]
  },
  {
   "cell_type": "markdown",
   "metadata": {},
   "source": [
    "S - 4 `x2 = 1`:\n",
    "- Fractional\n",
    "- Branch on x4\n",
    "- Add `x4 = 0` (S7)\n",
    "- Add `x4 = 1` (S8)"
   ]
  },
  {
   "cell_type": "markdown",
   "metadata": {},
   "source": [
    "#### S5 - Add `x3 = 0`"
   ]
  },
  {
   "cell_type": "code",
   "execution_count": null,
   "metadata": {},
   "outputs": [
    {
     "name": "stdout",
     "output_type": "stream",
     "text": [
      "**** S - 5 : x3 == 0 ****\n",
      "Status: Optimal\n",
      "x1 = 1.0\n",
      "x2 = 0.0\n",
      "x3 = 0.0\n",
      "x4 = 0.0\n",
      "Objective value: 9.0\n"
     ]
    }
   ],
   "source": [
    "# Code for Solving the Problem with Constraint S5\n",
    "import pulp\n",
    "\n",
    "# Create a LP maximization problem\n",
    "prob = pulp.LpProblem(\"Maximization_Problem\", pulp.LpMaximize)\n",
    "\n",
    "# Define decision variables\n",
    "x1 = pulp.LpVariable('x1', lowBound=0, upBound=1, cat='Continuous')\n",
    "x2 = pulp.LpVariable('x2', lowBound=0, upBound=1, cat='Continuous')\n",
    "x3 = pulp.LpVariable('x3', lowBound=0, upBound=1, cat='Continuous')\n",
    "x4 = pulp.LpVariable('x4', lowBound=0, upBound=1, cat='Continuous')\n",
    "\n",
    "# Objective function\n",
    "prob += 9*x1 + 5*x2 + 6*x3 + 4*x4, \"Objective\"\n",
    "\n",
    "# Constraints\n",
    "prob += 6*x1 + 3*x2 + 5*x3 + 2*x4 <= 10, \"Constraint 1\"\n",
    "prob += x3 + x4 <= 1, \"Constraint 2\"\n",
    "prob += x3 - x1 <= 0, \"Constraint 3\"\n",
    "prob += x4 - x2 <= 0, \"Constraint 4\"\n",
    "prob += x1 == 1, \"Constraint S2\" # branch from S2\n",
    "prob += x2 == 0, \"Constraint S3\" # bracnh from S3\n",
    "prob += x3 == 0, \"Constraint S5\"\n",
    "\n",
    "# Solve the problem\n",
    "prob.solve()\n",
    "\n",
    "# Print the results\n",
    "print(\"**** S - 5 : x3 == 0 ****\")\n",
    "print(\"Status:\", pulp.LpStatus[prob.status])\n",
    "for variable in prob.variables():\n",
    "    print(f\"{variable.name} = {variable.varValue}\")\n",
    "print(\"Objective value:\", pulp.value(prob.objective))"
   ]
  },
  {
   "cell_type": "markdown",
   "metadata": {},
   "source": [
    "S - 5 `x3 = 0`:\n",
    "- Integer\n",
    "- No need for further branching"
   ]
  },
  {
   "cell_type": "markdown",
   "metadata": {},
   "source": [
    "#### S6 - Add `x3 = 1`"
   ]
  },
  {
   "cell_type": "code",
   "execution_count": null,
   "metadata": {},
   "outputs": [
    {
     "name": "stdout",
     "output_type": "stream",
     "text": [
      "**** S - 6 : x3 == 1 ****\n",
      "Status: Infeasible\n",
      "x1 = 1.0\n",
      "x2 = 0.0\n",
      "x3 = 1.0\n",
      "x4 = -0.5\n",
      "Objective value: 13.0\n"
     ]
    }
   ],
   "source": [
    "# Code for Solving the Problem with Constraint S6\n",
    "import pulp\n",
    "\n",
    "# Create a LP maximization problem\n",
    "prob = pulp.LpProblem(\"Maximization_Problem\", pulp.LpMaximize)\n",
    "\n",
    "# Define decision variables\n",
    "x1 = pulp.LpVariable('x1', lowBound=0, upBound=1, cat='Continuous')\n",
    "x2 = pulp.LpVariable('x2', lowBound=0, upBound=1, cat='Continuous')\n",
    "x3 = pulp.LpVariable('x3', lowBound=0, upBound=1, cat='Continuous')\n",
    "x4 = pulp.LpVariable('x4', lowBound=0, upBound=1, cat='Continuous')\n",
    "\n",
    "# Objective function\n",
    "prob += 9*x1 + 5*x2 + 6*x3 + 4*x4, \"Objective\"\n",
    "\n",
    "# Constraints\n",
    "prob += 6*x1 + 3*x2 + 5*x3 + 2*x4 <= 10, \"Constraint 1\"\n",
    "prob += x3 + x4 <= 1, \"Constraint 2\"\n",
    "prob += x3 - x1 <= 0, \"Constraint 3\"\n",
    "prob += x4 - x2 <= 0, \"Constraint 4\"\n",
    "prob += x1 == 1, \"Constraint S2\" # branch from S2\n",
    "prob += x2 == 0, \"Constraint S3\" # bracnh from S3\n",
    "prob += x3 == 1, \"Constraint S6\"\n",
    "\n",
    "# Solve the problem\n",
    "prob.solve()\n",
    "\n",
    "# Print the results\n",
    "print(\"**** S - 6 : x3 == 1 ****\")\n",
    "print(\"Status:\", pulp.LpStatus[prob.status])\n",
    "for variable in prob.variables():\n",
    "    print(f\"{variable.name} = {variable.varValue}\")\n",
    "print(\"Objective value:\", pulp.value(prob.objective))"
   ]
  },
  {
   "cell_type": "markdown",
   "metadata": {},
   "source": [
    "S - 6 `x3 = 1`:\n",
    "- Infeasible\n",
    "- Prune this branch"
   ]
  },
  {
   "cell_type": "markdown",
   "metadata": {},
   "source": [
    "#### S7 - Add `x4 = 0`"
   ]
  },
  {
   "cell_type": "code",
   "execution_count": null,
   "metadata": {},
   "outputs": [
    {
     "name": "stdout",
     "output_type": "stream",
     "text": [
      "**** S - 7 : x4 == 0 ****\n",
      "Status: Optimal\n",
      "x1 = 1.0\n",
      "x2 = 1.0\n",
      "x3 = 0.2\n",
      "x4 = 0.0\n",
      "Objective value: 15.2\n"
     ]
    }
   ],
   "source": [
    "# Code for Solving the Problem with Constraint S7\n",
    "import pulp\n",
    "\n",
    "# Create a LP maximization problem\n",
    "prob = pulp.LpProblem(\"Maximization_Problem\", pulp.LpMaximize)\n",
    "\n",
    "# Define decision variables\n",
    "x1 = pulp.LpVariable('x1', lowBound=0, upBound=1, cat='Continuous')\n",
    "x2 = pulp.LpVariable('x2', lowBound=0, upBound=1, cat='Continuous')\n",
    "x3 = pulp.LpVariable('x3', lowBound=0, upBound=1, cat='Continuous')\n",
    "x4 = pulp.LpVariable('x4', lowBound=0, upBound=1, cat='Continuous')\n",
    "\n",
    "# Objective function\n",
    "prob += 9*x1 + 5*x2 + 6*x3 + 4*x4, \"Objective\"\n",
    "\n",
    "# Constraints\n",
    "prob += 6*x1 + 3*x2 + 5*x3 + 2*x4 <= 10, \"Constraint 1\"\n",
    "prob += x3 + x4 <= 1, \"Constraint 2\"\n",
    "prob += x3 - x1 <= 0, \"Constraint 3\"\n",
    "prob += x4 - x2 <= 0, \"Constraint 4\"\n",
    "prob += x1 == 1, \"Constraint S2\" # branch from S2\n",
    "prob += x2 == 1, \"Constraint S4\" # branch from S4\n",
    "prob += x4 == 0, \"Constraint S7\"\n",
    "\n",
    "# Solve the problem\n",
    "prob.solve()\n",
    "\n",
    "# Print the results\n",
    "print(\"**** S - 7 : x4 == 0 ****\")\n",
    "print(\"Status:\", pulp.LpStatus[prob.status])\n",
    "for variable in prob.variables():\n",
    "    print(f\"{variable.name} = {variable.varValue}\")\n",
    "print(\"Objective value:\", pulp.value(prob.objective))"
   ]
  },
  {
   "cell_type": "markdown",
   "metadata": {},
   "source": [
    "S - 7 `x4 = 0`:\n",
    "- Fractional\n",
    "- Branch on x3\n",
    "- Add x3 = 0 (S9)\n",
    "- Add x3 = 1 (S10)"
   ]
  },
  {
   "cell_type": "markdown",
   "metadata": {},
   "source": [
    "#### S8 - Add `x4 = 1`"
   ]
  },
  {
   "cell_type": "code",
   "execution_count": null,
   "metadata": {},
   "outputs": [
    {
     "name": "stdout",
     "output_type": "stream",
     "text": [
      "**** S - 8 : x4 == 1 ****\n",
      "Status: Infeasible\n",
      "x1 = 1.0\n",
      "x2 = 0.66666667\n",
      "x3 = 0.0\n",
      "x4 = 1.0\n",
      "Objective value: 16.33333335\n"
     ]
    }
   ],
   "source": [
    "# Code for Solving the Problem with Constraint S8\n",
    "import pulp\n",
    "\n",
    "# Create a LP maximization problem\n",
    "prob = pulp.LpProblem(\"Maximization_Problem\", pulp.LpMaximize)\n",
    "\n",
    "# Define decision variables\n",
    "x1 = pulp.LpVariable('x1', lowBound=0, upBound=1, cat='Continuous')\n",
    "x2 = pulp.LpVariable('x2', lowBound=0, upBound=1, cat='Continuous')\n",
    "x3 = pulp.LpVariable('x3', lowBound=0, upBound=1, cat='Continuous')\n",
    "x4 = pulp.LpVariable('x4', lowBound=0, upBound=1, cat='Continuous')\n",
    "\n",
    "# Objective function\n",
    "prob += 9*x1 + 5*x2 + 6*x3 + 4*x4, \"Objective\"\n",
    "\n",
    "# Constraints\n",
    "prob += 6*x1 + 3*x2 + 5*x3 + 2*x4 <= 10, \"Constraint 1\"\n",
    "prob += x3 + x4 <= 1, \"Constraint 2\"\n",
    "prob += x3 - x1 <= 0, \"Constraint 3\"\n",
    "prob += x4 - x2 <= 0, \"Constraint 4\"\n",
    "prob += x1 == 1, \"Constraint S2\" # branch from S2\n",
    "prob += x2 == 1, \"Constraint S4\" # branch from S4\n",
    "prob += x4 == 1, \"Constraint S8\"\n",
    "\n",
    "# Solve the problem\n",
    "prob.solve()\n",
    "\n",
    "# Print the results\n",
    "print(\"**** S - 8 : x4 == 1 ****\")\n",
    "print(\"Status:\", pulp.LpStatus[prob.status])\n",
    "for variable in prob.variables():\n",
    "    print(f\"{variable.name} = {variable.varValue}\")\n",
    "print(\"Objective value:\", pulp.value(prob.objective))"
   ]
  },
  {
   "cell_type": "markdown",
   "metadata": {},
   "source": [
    "S - 8 `x4 = 1`:\n",
    "- Infeasible\n",
    "- Prune this branch"
   ]
  },
  {
   "cell_type": "markdown",
   "metadata": {},
   "source": [
    "#### S9 - Add `x3 = 0`"
   ]
  },
  {
   "cell_type": "code",
   "execution_count": null,
   "metadata": {},
   "outputs": [
    {
     "name": "stdout",
     "output_type": "stream",
     "text": [
      "**** S - 9 : x3 == 0 ****\n",
      "Status: Optimal\n",
      "x1 = 1.0\n",
      "x2 = 1.0\n",
      "x3 = 0.0\n",
      "x4 = 0.0\n",
      "Objective value: 14.0\n"
     ]
    }
   ],
   "source": [
    "# Code for Solving the Problem with Constraint S9\n",
    "import pulp\n",
    "\n",
    "# Create a LP maximization problem\n",
    "prob = pulp.LpProblem(\"Maximization_Problem\", pulp.LpMaximize)\n",
    "\n",
    "# Define decision variables\n",
    "x1 = pulp.LpVariable('x1', lowBound=0, upBound=1, cat='Continuous')\n",
    "x2 = pulp.LpVariable('x2', lowBound=0, upBound=1, cat='Continuous')\n",
    "x3 = pulp.LpVariable('x3', lowBound=0, upBound=1, cat='Continuous')\n",
    "x4 = pulp.LpVariable('x4', lowBound=0, upBound=1, cat='Continuous')\n",
    "\n",
    "# Objective function\n",
    "prob += 9*x1 + 5*x2 + 6*x3 + 4*x4, \"Objective\"\n",
    "\n",
    "# Constraints\n",
    "prob += 6*x1 + 3*x2 + 5*x3 + 2*x4 <= 10, \"Constraint 1\"\n",
    "prob += x3 + x4 <= 1, \"Constraint 2\"\n",
    "prob += x3 - x1 <= 0, \"Constraint 3\"\n",
    "prob += x4 - x2 <= 0, \"Constraint 4\"\n",
    "prob += x1 == 1, \"Constraint S2\" # branch from S2\n",
    "prob += x2 == 1, \"Constraint S4\" # branch from S4\n",
    "prob += x4 == 0, \"Constraint S7\" # branch from S7\n",
    "prob += x3 == 0, \"Constraint S9\" \n",
    "\n",
    "# Solve the problem\n",
    "prob.solve()\n",
    "\n",
    "# Print the results\n",
    "print(\"**** S - 9 : x3 == 0 ****\")\n",
    "print(\"Status:\", pulp.LpStatus[prob.status])\n",
    "for variable in prob.variables():\n",
    "    print(f\"{variable.name} = {variable.varValue}\")\n",
    "print(\"Objective value:\", pulp.value(prob.objective))"
   ]
  },
  {
   "cell_type": "markdown",
   "metadata": {},
   "source": [
    "S - 9 `x3 = 0`:\n",
    "- Integer\n",
    "- No further branching required"
   ]
  },
  {
   "cell_type": "markdown",
   "metadata": {},
   "source": [
    "#### S10 - Add `x3 = 1`"
   ]
  },
  {
   "cell_type": "code",
   "execution_count": null,
   "metadata": {},
   "outputs": [
    {
     "name": "stdout",
     "output_type": "stream",
     "text": [
      "**** S - 10 : x3 == 1 ****\n",
      "Status: Infeasible\n",
      "x1 = 1.0\n",
      "x2 = -0.33333333\n",
      "x3 = 1.0\n",
      "x4 = 0.0\n",
      "Objective value: 13.33333335\n"
     ]
    }
   ],
   "source": [
    "# Code for Solving the Problem with Constraint S10\n",
    "import pulp\n",
    "\n",
    "# Create a LP maximization problem\n",
    "prob = pulp.LpProblem(\"Maximization_Problem\", pulp.LpMaximize)\n",
    "\n",
    "# Define decision variables\n",
    "x1 = pulp.LpVariable('x1', lowBound=0, upBound=1, cat='Continuous')\n",
    "x2 = pulp.LpVariable('x2', lowBound=0, upBound=1, cat='Continuous')\n",
    "x3 = pulp.LpVariable('x3', lowBound=0, upBound=1, cat='Continuous')\n",
    "x4 = pulp.LpVariable('x4', lowBound=0, upBound=1, cat='Continuous')\n",
    "\n",
    "# Objective function\n",
    "prob += 9*x1 + 5*x2 + 6*x3 + 4*x4, \"Objective\"\n",
    "\n",
    "# Constraints\n",
    "prob += 6*x1 + 3*x2 + 5*x3 + 2*x4 <= 10, \"Constraint 1\"\n",
    "prob += x3 + x4 <= 1, \"Constraint 2\"\n",
    "prob += x3 - x1 <= 0, \"Constraint 3\"\n",
    "prob += x4 - x2 <= 0, \"Constraint 4\"\n",
    "prob += x1 == 1, \"Constraint S2\" # branch from S2\n",
    "prob += x2 == 1, \"Constraint S4\" # branch from S4\n",
    "prob += x4 == 0, \"Constraint S7\" # branch from S7\n",
    "prob += x3 == 1, \"Constraint S10\" \n",
    "\n",
    "# Solve the problem\n",
    "prob.solve()\n",
    "\n",
    "# Print the results\n",
    "print(\"**** S - 10 : x3 == 1 ****\")\n",
    "print(\"Status:\", pulp.LpStatus[prob.status])\n",
    "for variable in prob.variables():\n",
    "    print(f\"{variable.name} = {variable.varValue}\")\n",
    "print(\"Objective value:\", pulp.value(prob.objective))"
   ]
  },
  {
   "cell_type": "markdown",
   "metadata": {},
   "source": [
    "S - 10 `x3 = 1`:\n",
    "- Infeasible\n",
    "- Prune this branch"
   ]
  }
 ],
 "metadata": {
  "kernelspec": {
   "display_name": ".venv",
   "language": "python",
   "name": "python3"
  },
  "language_info": {
   "codemirror_mode": {
    "name": "ipython",
    "version": 3
   },
   "file_extension": ".py",
   "mimetype": "text/x-python",
   "name": "python",
   "nbconvert_exporter": "python",
   "pygments_lexer": "ipython3",
   "version": "3.11.4"
  }
 },
 "nbformat": 4,
 "nbformat_minor": 2
}
