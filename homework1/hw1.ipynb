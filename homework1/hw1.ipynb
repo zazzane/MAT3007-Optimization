{
 "cells": [
  {
   "cell_type": "code",
   "execution_count": 1,
   "metadata": {},
   "outputs": [
    {
     "name": "stdout",
     "output_type": "stream",
     "text": [
      "Status: Optimal\n",
      "Number of products of the first type (x1): 48.0\n",
      "Number of products of the second type (x2): 336.0\n",
      "Total Profit: 2760.0\n"
     ]
    }
   ],
   "source": [
    "from pulp import LpProblem, LpMaximize, LpVariable, LpStatus, value\n",
    "\n",
    "# Init LP Problem from Q1(a)\n",
    "problem = LpProblem(\"Maximize_Profit\", LpMaximize)\n",
    "\n",
    "# Decision variables\n",
    "x1 = LpVariable(\"x1\", lowBound=0, cat='Continuous')  # Number of products of the first type\n",
    "x2 = LpVariable(\"x2\", lowBound=0, cat='Continuous')  # Number of products of the second type\n",
    "\n",
    "# Objective function\n",
    "problem += 7.8 * x1 + 7.1 * x2, \"Total_Profit\"\n",
    "\n",
    "# Constraints\n",
    "problem += (1/8) * x1 + (1/4) * x2 <= 90, \"Assembly_Labor_Constraint\"\n",
    "problem += (1/2) * x1 + (1/6) * x2 <= 80, \"Testing_Labor_Constraint\"\n",
    "\n",
    "# Solving LP Problem\n",
    "problem.solve()\n",
    "\n",
    "# Output the results\n",
    "print(\"Status:\", LpStatus[problem.status])\n",
    "print(\"Number of products of the first type (x1):\", value(x1))\n",
    "print(\"Number of products of the second type (x2):\", value(x2))\n",
    "print(\"Total Profit:\", value(problem.objective))\n"
   ]
  }
 ],
 "metadata": {
  "kernelspec": {
   "display_name": ".venv",
   "language": "python",
   "name": "python3"
  },
  "language_info": {
   "codemirror_mode": {
    "name": "ipython",
    "version": 3
   },
   "file_extension": ".py",
   "mimetype": "text/x-python",
   "name": "python",
   "nbconvert_exporter": "python",
   "pygments_lexer": "ipython3",
   "version": "3.11.4"
  }
 },
 "nbformat": 4,
 "nbformat_minor": 2
}
